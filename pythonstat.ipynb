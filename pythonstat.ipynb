{
  "nbformat": 4,
  "nbformat_minor": 0,
  "metadata": {
    "colab": {
      "provenance": [],
      "authorship_tag": "ABX9TyOtgMbNzWtk+9uhRGCFF4by",
      "include_colab_link": true
    },
    "kernelspec": {
      "name": "python3",
      "display_name": "Python 3"
    },
    "language_info": {
      "name": "python"
    }
  },
  "cells": [
    {
      "cell_type": "markdown",
      "metadata": {
        "id": "view-in-github",
        "colab_type": "text"
      },
      "source": [
        "<a href=\"https://colab.research.google.com/github/adheenasus/demoo.py/blob/main/pythonstat.ipynb\" target=\"_parent\"><img src=\"https://colab.research.google.com/assets/colab-badge.svg\" alt=\"Open In Colab\"/></a>"
      ]
    },
    {
      "cell_type": "code",
      "execution_count": null,
      "metadata": {
        "id": "ZQy7OE1gEQgs"
      },
      "outputs": [],
      "source": [
        "# Q1.Write a function to compute number of vowels in a string given as input"
      ]
    },
    {
      "cell_type": "code",
      "source": [
        "def your_function_1(data):\n",
        "    vowels = \"aeiouAEIOU\"\n",
        "    count = 0\n",
        "    for char in data:\n",
        "        if char in vowels:\n",
        "            count += 1\n",
        "    return count\n",
        "\n",
        "data = input(\"Enter a string: \")\n",
        "print(\"Number of vowels in the string:\", your_function_1(data))\n"
      ],
      "metadata": {
        "colab": {
          "base_uri": "https://localhost:8080/"
        },
        "id": "lsYd06BHEWFh",
        "outputId": "3ae99814-3621-4fe1-c863-3a38fac899f1"
      },
      "execution_count": null,
      "outputs": [
        {
          "output_type": "stream",
          "name": "stdout",
          "text": [
            "Enter a string: adheena\n",
            "Number of vowels in the string: 4\n"
          ]
        }
      ]
    },
    {
      "cell_type": "code",
      "source": [
        "# Q2.Write a function that checks whether a number is prime."
      ],
      "metadata": {
        "id": "carwPsn4Ea3w"
      },
      "execution_count": null,
      "outputs": []
    },
    {
      "cell_type": "code",
      "source": [
        "def your_function_2(n):\n",
        "    if n <= 1:\n",
        "        return False\n",
        "    if n == 2:\n",
        "        return True\n",
        "    if n % 2 == 0:\n",
        "        return False\n",
        "    for i in range(3, int(n**0.5) + 1, 2):\n",
        "        if n % i == 0:\n",
        "            return False\n",
        "    return True\n",
        "\n",
        "num = int(input(\"Enter a number: \"))\n",
        "if your_function_2(num):\n",
        "    print(num, \"is a prime number.\")\n",
        "else:\n",
        "    print(num, \"is not a prime number.\")\n"
      ],
      "metadata": {
        "colab": {
          "base_uri": "https://localhost:8080/"
        },
        "id": "6KNrK_QVEwt_",
        "outputId": "8665b96c-180b-4ceb-f103-9095eaf5d145"
      },
      "execution_count": null,
      "outputs": [
        {
          "output_type": "stream",
          "name": "stdout",
          "text": [
            "Enter a number: 2\n",
            "2 is a prime number.\n"
          ]
        }
      ]
    },
    {
      "cell_type": "code",
      "source": [
        "#Q3. Write a function to return the maximum of two numbers."
      ],
      "metadata": {
        "id": "jj1r_iSFFDFw"
      },
      "execution_count": null,
      "outputs": []
    },
    {
      "cell_type": "code",
      "source": [
        "def your_function_3(a, b):\n",
        "    if a > b:\n",
        "        return a\n",
        "    else:\n",
        "        return b\n",
        "\n",
        "num1 = int(input(\"Enter first number: \"))\n",
        "num2 = int(input(\"Enter second number: \"))\n",
        "print(\"Maximum is:\", your_function_3(num1, num2))\n"
      ],
      "metadata": {
        "colab": {
          "base_uri": "https://localhost:8080/"
        },
        "id": "Wkj-X_zfF4A3",
        "outputId": "914279e1-236f-41a5-ed6c-13f5d11bfc5c"
      },
      "execution_count": null,
      "outputs": [
        {
          "output_type": "stream",
          "name": "stdout",
          "text": [
            "Enter first number: 4\n",
            "Enter second number: 9\n",
            "Maximum is: 9\n"
          ]
        }
      ]
    },
    {
      "cell_type": "code",
      "source": [
        "# Q4. Write a function to return the factorial of a number."
      ],
      "metadata": {
        "id": "g1TUMhyJGJ_4"
      },
      "execution_count": null,
      "outputs": []
    },
    {
      "cell_type": "code",
      "source": [
        "def your_function_4(n):\n",
        "    f = 1\n",
        "    for i in range(1, n+1):\n",
        "        f = f * i\n",
        "    return f\n",
        "\n",
        "num = int(input(\"Enter a number: \"))\n",
        "print(\"Factorial of\", num, \"is:\", your_function_4(num))\n"
      ],
      "metadata": {
        "colab": {
          "base_uri": "https://localhost:8080/"
        },
        "id": "5Fj9iSl-GQlf",
        "outputId": "531eddb7-8344-4fa3-d734-90d4a695b52f"
      },
      "execution_count": null,
      "outputs": [
        {
          "output_type": "stream",
          "name": "stdout",
          "text": [
            "Enter a number: 4\n",
            "Factorial of 4 is: 24\n"
          ]
        }
      ]
    },
    {
      "cell_type": "code",
      "source": [
        "#Q5.  Write a function to reverse a string without string indexing."
      ],
      "metadata": {
        "id": "q4y7egcCGeWf"
      },
      "execution_count": null,
      "outputs": []
    },
    {
      "cell_type": "code",
      "source": [
        "def your_function_5(s):\n",
        "    result = \"\"\n",
        "    for ch in s:\n",
        "        result = ch + result\n",
        "    return result\n",
        "\n",
        "s = input(\"Enter a string: \")\n",
        "print(\"Reversed string is:\", your_function_5(s))"
      ],
      "metadata": {
        "colab": {
          "base_uri": "https://localhost:8080/"
        },
        "id": "fxh4Nze0G0yv",
        "outputId": "c21dd424-3d60-4258-86ca-ff9bc9cb4dfa"
      },
      "execution_count": null,
      "outputs": [
        {
          "output_type": "stream",
          "name": "stdout",
          "text": [
            "Enter a string: adheena\n",
            "Reversed string is: aneehda\n"
          ]
        }
      ]
    },
    {
      "cell_type": "code",
      "source": [
        "# Q6. Write a function to check if a string is a palindrome."
      ],
      "metadata": {
        "id": "yTOiDJH5H9Mt"
      },
      "execution_count": null,
      "outputs": []
    },
    {
      "cell_type": "code",
      "source": [
        "def your_function_6(s):\n",
        "    return s == s[::-1]\n",
        "text = input(\"Enter a string: \")\n",
        "if your_function_6(text):\n",
        "    print(\"It Is Pallindrome\")\n",
        "else:\n",
        "    print(\"No, it is not a Palindrome.\")\n"
      ],
      "metadata": {
        "colab": {
          "base_uri": "https://localhost:8080/"
        },
        "id": "XBkUl50bIDDe",
        "outputId": "128fb359-58c6-4a15-e1a1-6c8f98a374a7"
      },
      "execution_count": null,
      "outputs": [
        {
          "output_type": "stream",
          "name": "stdout",
          "text": [
            "Enter a string: MALAYALAM\n",
            "It Is Pallindrome\n"
          ]
        }
      ]
    },
    {
      "cell_type": "code",
      "source": [
        "#Q7.  Write a function to count vowels in a string."
      ],
      "metadata": {
        "id": "jmzw_Q5oJAVe"
      },
      "execution_count": null,
      "outputs": []
    },
    {
      "cell_type": "code",
      "source": [
        "def your_function_7(s):\n",
        "    vowels = \"aeiouAEIOU\"\n",
        "    count = 0\n",
        "    for ch in s:\n",
        "        if ch in vowels:\n",
        "            count += 1\n",
        "    return count\n",
        "\n",
        "text = input(\"Enter a string: \")\n",
        "print(\"Number of vowels:\", your_function_7(text))\n"
      ],
      "metadata": {
        "colab": {
          "base_uri": "https://localhost:8080/"
        },
        "id": "pY30vE4RJGxO",
        "outputId": "50a6bbf5-0b4d-4a2b-db01-ca03a1c9f041"
      },
      "execution_count": null,
      "outputs": [
        {
          "output_type": "stream",
          "name": "stdout",
          "text": [
            "Enter a string: adgetfvgiiuoo\n",
            "Number of vowels: 7\n"
          ]
        }
      ]
    },
    {
      "cell_type": "code",
      "source": [
        "#Q8.  Write a function that returns the sum of a list."
      ],
      "metadata": {
        "id": "b9yUpM17JRyf"
      },
      "execution_count": null,
      "outputs": []
    },
    {
      "cell_type": "code",
      "source": [
        "def your_function_8(numbers):\n",
        "    return sum(numbers)\n",
        "\n",
        "user_input = input(\"Enter numbers : \")\n",
        "nums = list(map(int, user_input.split()))\n",
        "\n",
        "print(\"Sum of the list:\", your_function_8(nums))"
      ],
      "metadata": {
        "colab": {
          "base_uri": "https://localhost:8080/"
        },
        "id": "vL1BtKrZJm2G",
        "outputId": "50e85d2c-a753-460a-f15b-a027f852462d"
      },
      "execution_count": null,
      "outputs": [
        {
          "output_type": "stream",
          "name": "stdout",
          "text": [
            "Enter numbers : 5 78 4545 98\n",
            "Sum of the list: 4726\n"
          ]
        }
      ]
    },
    {
      "cell_type": "code",
      "source": [
        "# Q9. Write a function to find the smallest number in a list."
      ],
      "metadata": {
        "id": "tPlvpEsCKBRG"
      },
      "execution_count": null,
      "outputs": []
    },
    {
      "cell_type": "code",
      "source": [
        "def your_function_9():\n",
        "    nums = list(map(int, input(\"Enter numbers : \").split()))\n",
        "    print(\"Smallest number is:\", min(nums))\n",
        "\n",
        "your_function_9()\n"
      ],
      "metadata": {
        "colab": {
          "base_uri": "https://localhost:8080/"
        },
        "id": "woHmEN_1KXvO",
        "outputId": "dce5645f-2292-4362-b48c-50e359fabfab"
      },
      "execution_count": null,
      "outputs": [
        {
          "output_type": "stream",
          "name": "stdout",
          "text": [
            "Enter numbers : 5 76 09\n",
            "Smallest number is: 5\n"
          ]
        }
      ]
    },
    {
      "cell_type": "code",
      "source": [
        "# Q 10. Write a function to remove duplicates from a list."
      ],
      "metadata": {
        "id": "TlfGK56SKxV-"
      },
      "execution_count": null,
      "outputs": []
    },
    {
      "cell_type": "code",
      "source": [
        "def your_function_10(numbers):\n",
        "    result = []\n",
        "    for num in numbers:\n",
        "        if num not in result:\n",
        "            result.append(num)\n",
        "    return result\n",
        "\n",
        "nums = list(map(int, input(\"Enter numbers: \").split()))\n",
        "print(\"List without duplicates:\", your_function_10(nums))\n"
      ],
      "metadata": {
        "colab": {
          "base_uri": "https://localhost:8080/"
        },
        "id": "Hjr8xEUCLmv3",
        "outputId": "7c8eacf8-1b05-4903-dedb-c678e4bd1ff2"
      },
      "execution_count": null,
      "outputs": [
        {
          "output_type": "stream",
          "name": "stdout",
          "text": [
            "Enter numbers: 56 56 98 23\n",
            "List without duplicates: [56, 98, 23]\n"
          ]
        }
      ]
    },
    {
      "cell_type": "code",
      "source": [
        "#Q 11. Write a function to sort a list in ascending order without using builtin sort function"
      ],
      "metadata": {
        "id": "0agoJXn5L-Zv"
      },
      "execution_count": null,
      "outputs": []
    },
    {
      "cell_type": "code",
      "source": [
        "def your_function_11():\n",
        "    nums = list(map(int, input(\"Enter numbers: \").split()))\n",
        "    for i in range(len(nums)):\n",
        "        for j in range(i + 1, len(nums)):\n",
        "            if nums[i] > nums[j]:\n",
        "                nums[i], nums[j] = nums[j], nums[i]\n",
        "    print(\"Sorted list:\", nums)\n",
        "\n",
        "your_function_11()"
      ],
      "metadata": {
        "colab": {
          "base_uri": "https://localhost:8080/"
        },
        "id": "Dj1Gan7pMFO3",
        "outputId": "8938bb43-1193-4635-940c-4c129d28972e"
      },
      "execution_count": null,
      "outputs": [
        {
          "output_type": "stream",
          "name": "stdout",
          "text": [
            "Enter numbers: 45 3 787 99 57 45 890 45\n",
            "Sorted list: [3, 45, 45, 45, 57, 99, 787, 890]\n"
          ]
        }
      ]
    },
    {
      "cell_type": "code",
      "source": [
        "# Q12.  Write a function that returns the length of a string."
      ],
      "metadata": {
        "id": "RSMeOwmvMuFG"
      },
      "execution_count": null,
      "outputs": []
    },
    {
      "cell_type": "code",
      "source": [
        "def your_function_12():\n",
        "    text = input(\"Enter a string: \")\n",
        "    count = 0\n",
        "    for char in text:\n",
        "        count += 1\n",
        "    print(\"Length of the string is:\", count)\n",
        "\n",
        "your_function_12()\n"
      ],
      "metadata": {
        "colab": {
          "base_uri": "https://localhost:8080/"
        },
        "id": "EEGQucceNk9X",
        "outputId": "fcc20342-7cfb-46ba-a4da-97d33e182fbc"
      },
      "execution_count": null,
      "outputs": [
        {
          "output_type": "stream",
          "name": "stdout",
          "text": [
            "Enter a string: hi everyone hope youll are doing well\n",
            "Length of the string is: 37\n"
          ]
        }
      ]
    },
    {
      "cell_type": "code",
      "source": [
        "# Q13. Write a function to count words in a sentence."
      ],
      "metadata": {
        "id": "xN_Uat3lN1Oe"
      },
      "execution_count": null,
      "outputs": []
    },
    {
      "cell_type": "code",
      "source": [
        "def your_function_13():\n",
        "    sentence = input(\"Enter a sentence: \")\n",
        "    words = sentence.split()\n",
        "    print(\"Number of words:\", len(words))\n",
        "\n",
        "your_function_13()\n"
      ],
      "metadata": {
        "colab": {
          "base_uri": "https://localhost:8080/"
        },
        "id": "y1ccX8cuN6mO",
        "outputId": "44c4a6a6-5ca4-4c60-f07b-6111d1d354d0"
      },
      "execution_count": null,
      "outputs": [
        {
          "output_type": "stream",
          "name": "stdout",
          "text": [
            "Enter a sentence: hi all good evening \n",
            "Number of words: 4\n"
          ]
        }
      ]
    },
    {
      "cell_type": "code",
      "source": [
        "# Q14. Write a function to convert Celsius to Fahrenheit."
      ],
      "metadata": {
        "id": "X2p7dzIJOQ4A"
      },
      "execution_count": null,
      "outputs": []
    },
    {
      "cell_type": "code",
      "source": [
        "def your_function_14():\n",
        "    celsius = float(input(\"Enter temperature in Celsius: \"))\n",
        "    fahrenheit = (celsius * 9/5) + 32\n",
        "    print(\"Temperature in Fahrenheit:\", fahrenheit)\n",
        "\n",
        "your_function_14()\n"
      ],
      "metadata": {
        "colab": {
          "base_uri": "https://localhost:8080/"
        },
        "id": "ITGqyRdZOdYW",
        "outputId": "319533bf-989a-4af0-949d-bf92265e4b7b"
      },
      "execution_count": null,
      "outputs": [
        {
          "output_type": "stream",
          "name": "stdout",
          "text": [
            "Enter temperature in Celsius: 100\n",
            "Temperature in Fahrenheit: 212.0\n"
          ]
        }
      ]
    },
    {
      "cell_type": "code",
      "source": [
        "# Q15. Write a function to check if a number is palindrome."
      ],
      "metadata": {
        "id": "KzScYsRTOiem"
      },
      "execution_count": null,
      "outputs": []
    },
    {
      "cell_type": "code",
      "source": [
        "def your_function_15():\n",
        "    num = input(\"Enter a number: \")\n",
        "    if num == num[::-1]:\n",
        "        print(\"It Is Palindrome.\")\n",
        "    else:\n",
        "        print(\" It's not a palindrome.\")\n",
        "\n",
        "your_function_15()"
      ],
      "metadata": {
        "colab": {
          "base_uri": "https://localhost:8080/"
        },
        "id": "rRevPogqOmH-",
        "outputId": "d4f484c4-c147-4d9b-f80e-e126a8658983"
      },
      "execution_count": null,
      "outputs": [
        {
          "output_type": "stream",
          "name": "stdout",
          "text": [
            "Enter a number: 1221\n",
            "It Is Palindrome.\n"
          ]
        }
      ]
    },
    {
      "cell_type": "code",
      "source": [
        "# Q16. Write a function to return all even numbers in a list."
      ],
      "metadata": {
        "id": "elGTbAnFO6z3"
      },
      "execution_count": null,
      "outputs": []
    },
    {
      "cell_type": "code",
      "source": [
        "def your_function_16():\n",
        "    nums = list(map(int, input(\"Enter numbers: \").split()))\n",
        "    even_numbers = []\n",
        "    for num in nums:\n",
        "        if num % 2 == 0:\n",
        "            even_numbers.append(num)\n",
        "    print(\"Even numbers in the list:\", even_numbers)\n",
        "\n",
        "your_function_16()"
      ],
      "metadata": {
        "colab": {
          "base_uri": "https://localhost:8080/"
        },
        "id": "YF9P8cJPO-9N",
        "outputId": "f004b7ae-b233-41a4-e23f-19fc01d43d1a"
      },
      "execution_count": null,
      "outputs": [
        {
          "output_type": "stream",
          "name": "stdout",
          "text": [
            "Enter numbers: 67 84 56 67 33 \n",
            "Even numbers in the list: [84, 56]\n"
          ]
        }
      ]
    },
    {
      "cell_type": "code",
      "source": [
        "# Q17. Write a function to return the nth Fibonacci number."
      ],
      "metadata": {
        "id": "4SwtDp12PXaO"
      },
      "execution_count": null,
      "outputs": []
    },
    {
      "cell_type": "code",
      "source": [
        "def your_function_17():\n",
        "    n = int(input(\"Enter the value of n: \"))\n",
        "    a, b = 0, 1\n",
        "    for _ in range(n):\n",
        "        a, b = b, a + b\n",
        "    print(f\"The {n}th Fibonacci number is:\", a)\n",
        "\n",
        "your_function_17()"
      ],
      "metadata": {
        "colab": {
          "base_uri": "https://localhost:8080/"
        },
        "id": "mt4CChUSPiPW",
        "outputId": "2e23f2d4-cae0-4a14-f01a-c3b9d4674dce"
      },
      "execution_count": null,
      "outputs": [
        {
          "output_type": "stream",
          "name": "stdout",
          "text": [
            "Enter the value of n: 54\n",
            "The 54th Fibonacci number is: 86267571272\n"
          ]
        }
      ]
    },
    {
      "cell_type": "code",
      "source": [
        "# Q18. Write a function to calculate the average of a list."
      ],
      "metadata": {
        "id": "Qi4ApoqoQbbt"
      },
      "execution_count": null,
      "outputs": []
    },
    {
      "cell_type": "code",
      "source": [
        "def your_function_18():\n",
        "    nums = list(map(int, input(\"Enter numbers: \").split()))\n",
        "    print(\"Average is:\", sum(nums) / len(nums))\n",
        "\n",
        "your_function_18()"
      ],
      "metadata": {
        "colab": {
          "base_uri": "https://localhost:8080/"
        },
        "id": "HPwCgEJ9QgEe",
        "outputId": "ec803486-f273-4647-fff5-da8a8978b043"
      },
      "execution_count": null,
      "outputs": [
        {
          "output_type": "stream",
          "name": "stdout",
          "text": [
            "Enter numbers: 67 5 67 45 87 456 \n",
            "Average is: 121.16666666666667\n"
          ]
        }
      ]
    },
    {
      "cell_type": "code",
      "source": [
        "# Q19. Write a function that returns a dictionary of character counts.\n"
      ],
      "metadata": {
        "id": "1KVdNBMGQxwe"
      },
      "execution_count": null,
      "outputs": []
    },
    {
      "cell_type": "code",
      "source": [
        "def your_function_19():\n",
        "    text = input(\"Enter a string: \")\n",
        "    counts = {}\n",
        "    for ch in text:\n",
        "        counts[ch] = counts.get(ch, 0) + 1\n",
        "    print(counts)\n",
        "\n",
        "your_function_19()"
      ],
      "metadata": {
        "colab": {
          "base_uri": "https://localhost:8080/"
        },
        "id": "OahGkpV_Q4aX",
        "outputId": "7406318d-4123-49b3-ce99-e417be8ed650"
      },
      "execution_count": null,
      "outputs": [
        {
          "output_type": "stream",
          "name": "stdout",
          "text": [
            "Enter a string: adheenasusanbrijee\n",
            "{'a': 3, 'd': 1, 'h': 1, 'e': 4, 'n': 2, 's': 2, 'u': 1, 'b': 1, 'r': 1, 'i': 1, 'j': 1}\n"
          ]
        }
      ]
    },
    {
      "cell_type": "code",
      "source": [
        "# Q20. Write a function that returns True if all list elements are unique."
      ],
      "metadata": {
        "id": "LrbCA74WRS5u"
      },
      "execution_count": null,
      "outputs": []
    },
    {
      "cell_type": "code",
      "source": [
        "def your_function_20():\n",
        "    nums = list(map(int, input(\"Enter numbers: \").split()))\n",
        "    print(len(nums) == len(set(nums)))\n",
        "\n",
        "your_function_20()"
      ],
      "metadata": {
        "colab": {
          "base_uri": "https://localhost:8080/"
        },
        "id": "DIY5H-tiRW1G",
        "outputId": "4a438460-1107-420a-ee43-bc55bc82aa76"
      },
      "execution_count": null,
      "outputs": [
        {
          "output_type": "stream",
          "name": "stdout",
          "text": [
            "Enter numbers: 3 4 6 7 5 6 \n",
            "False\n"
          ]
        }
      ]
    },
    {
      "cell_type": "code",
      "source": [
        "# Q21. Write a function that returns dot product of two list of numbers"
      ],
      "metadata": {
        "id": "TzWkFNncRnLG"
      },
      "execution_count": null,
      "outputs": []
    },
    {
      "cell_type": "code",
      "source": [
        "def your_function_21():\n",
        "    a = list(map(int, input(\"Enter list 1: \").split()))\n",
        "    b = list(map(int, input(\"Enter list 2: \").split()))\n",
        "    print(\"Dot product is:\", sum(x * y for x, y in zip(a, b)))\n",
        "\n",
        "your_function_21()"
      ],
      "metadata": {
        "colab": {
          "base_uri": "https://localhost:8080/"
        },
        "id": "TagR_c2XRqmu",
        "outputId": "21151228-5e1e-4370-ed3d-13f04c6af445"
      },
      "execution_count": null,
      "outputs": [
        {
          "output_type": "stream",
          "name": "stdout",
          "text": [
            "Enter list 1: 5 5 8 9\n",
            "Enter list 2: 6 7 9 2\n",
            "Dot product is: 155\n"
          ]
        }
      ]
    },
    {
      "cell_type": "code",
      "source": [
        "# Q22. Write a function that returns the projection of vector a onto vector b. Both a and b are given as list of numbers"
      ],
      "metadata": {
        "id": "aC0i5ItUTL9N"
      },
      "execution_count": null,
      "outputs": []
    },
    {
      "cell_type": "code",
      "source": [
        "def your_function_22():\n",
        "    a = list(map(float, input(\"Enter vector a: \").split()))\n",
        "    b = list(map(float, input(\"Enter vector b: \").split()))\n",
        "\n",
        "    dot_ab = sum(x * y for x, y in zip(a, b))\n",
        "    dot_bb = sum(y * y for y in b)\n",
        "    proj = [(dot_ab / dot_bb) * y for y in b]\n",
        "\n",
        "    print(\"Projection of a onto b:\", proj)\n",
        "\n",
        "your_function_22()"
      ],
      "metadata": {
        "colab": {
          "base_uri": "https://localhost:8080/"
        },
        "id": "Uz1AjHCyTPvu",
        "outputId": "387ec073-8a39-411c-e32e-1075bbbcda96"
      },
      "execution_count": 120,
      "outputs": [
        {
          "output_type": "stream",
          "name": "stdout",
          "text": [
            "Enter vector a: 2 3\n",
            "Enter vector b: 1 1\n",
            "Projection of a onto b: [2.5, 2.5]\n"
          ]
        }
      ]
    },
    {
      "cell_type": "code",
      "source": [
        "# Q23. Write a function to return common elements between two lists."
      ],
      "metadata": {
        "id": "RgY4qwcNT3mO"
      },
      "execution_count": null,
      "outputs": []
    },
    {
      "cell_type": "code",
      "source": [
        "def your_function_23():\n",
        "    list1 = list(map(int, input(\"Enter first list: \").split()))\n",
        "    list2 = list(map(int, input(\"Enter second list: \").split()))\n",
        "\n",
        "    common = [x for x in list1 if x in list2]\n",
        "    print(\"Common elements:\", common)\n",
        "\n",
        "your_function_23()\n"
      ],
      "metadata": {
        "colab": {
          "base_uri": "https://localhost:8080/"
        },
        "id": "H_kXBMkhUQlF",
        "outputId": "daad022d-989a-4046-c883-fe1ae6f014b0"
      },
      "execution_count": null,
      "outputs": [
        {
          "output_type": "stream",
          "name": "stdout",
          "text": [
            "Enter first list: 2 4 6 8\n",
            "Enter second list: 2 4 7 0\n",
            "Common elements: [2, 4]\n"
          ]
        }
      ]
    },
    {
      "cell_type": "code",
      "source": [
        "# Q24. Create a class Vector that supports addition, dot product, and magnitude."
      ],
      "metadata": {
        "id": "FkDFLtCJVHqt"
      },
      "execution_count": null,
      "outputs": []
    },
    {
      "cell_type": "code",
      "source": [
        "class Vector:\n",
        "    def __init__(self, values):\n",
        "        self.values = values\n",
        "\n",
        "    def add(self, other):\n",
        "        return [a + b for a, b in zip(self.values, other.values)]\n",
        "\n",
        "    def dot(self, other):\n",
        "        return sum(a * b for a, b in zip(self.values, other.values))\n",
        "\n",
        "    def magnitude(self):\n",
        "        total = 0\n",
        "        for x in self.values:\n",
        "            total += x * x\n",
        "        return total ** 0.5\n",
        "\n",
        "v1 = Vector([1, 2, 3])\n",
        "v2 = Vector([4, 5, 6])\n",
        "\n",
        "print(\"Addition:\", v1.add(v2))\n",
        "print(\"Dot Product:\", v1.dot(v2))\n",
        "print(\"Magnitude of v1:\", v1.magnitude())\n"
      ],
      "metadata": {
        "colab": {
          "base_uri": "https://localhost:8080/"
        },
        "id": "lijGJSLxVLvW",
        "outputId": "70e1a7d9-36ad-4d16-e825-b1a69da919b2"
      },
      "execution_count": null,
      "outputs": [
        {
          "output_type": "stream",
          "name": "stdout",
          "text": [
            "Addition: [5, 7, 9]\n",
            "Dot Product: 32\n",
            "Magnitude of v1: 3.7416573867739413\n"
          ]
        }
      ]
    },
    {
      "cell_type": "code",
      "source": [
        "# Q25. Implement a function to return all outliers in a list based on the IQR method."
      ],
      "metadata": {
        "id": "mXgJufymViC1"
      },
      "execution_count": null,
      "outputs": []
    },
    {
      "cell_type": "code",
      "source": [
        "def your_function_25():\n",
        "    numbers = list(map(float, input(\"Enter numbers: \").split()))\n",
        "    numbers.sort()\n",
        "    n = len(numbers)\n",
        "\n",
        "    def median(data):\n",
        "        l = len(data)\n",
        "        mid = l // 2\n",
        "        if l % 2 == 0:\n",
        "            return (data[mid - 1] + data[mid]) / 2\n",
        "        else:\n",
        "            return data[mid]\n",
        "\n",
        "    mid = n // 2\n",
        "    lower_half = numbers[:mid]\n",
        "    upper_half = numbers[mid:] if n % 2 == 0 else numbers[mid + 1:]\n",
        "\n",
        "    q1 = median(lower_half)\n",
        "    q3 = median(upper_half)\n",
        "    iqr = q3 - q1\n",
        "\n",
        "    lower_limit = q1 - 1.5 * iqr\n",
        "    upper_limit = q3 + 1.5 * iqr\n",
        "\n",
        "    print(f\"\\nQ1: {q1}\")\n",
        "    print(f\"Q3: {q3}\")\n",
        "    print(f\"IQR: {iqr}\")\n",
        "    print(f\"Lower Limit: {lower_limit}\")\n",
        "    print(f\"Upper Limit: {upper_limit}\")\n",
        "\n",
        "    outliers = []\n",
        "\n",
        "    print(\"\\nNumber\\tStatus\")\n",
        "    for x in numbers:\n",
        "        if x < lower_limit or x > upper_limit:\n",
        "            print(f\"{x}\\tOutlier\")\n",
        "            outliers.append(x)\n",
        "        else:\n",
        "            print(f\"{x}\\tInlier\")\n",
        "\n",
        "    print(\"\\nOutliers:\", outliers if outliers else \"None\")\n",
        "\n",
        "your_function_25()\n"
      ],
      "metadata": {
        "colab": {
          "base_uri": "https://localhost:8080/"
        },
        "id": "Y5u6DLxaVl0W",
        "outputId": "6acc69a4-ecb3-4f75-fb0a-758c6011d5f8"
      },
      "execution_count": null,
      "outputs": [
        {
          "output_type": "stream",
          "name": "stdout",
          "text": [
            "Enter numbers: 1 4 6 7 80000\n",
            "\n",
            "Q1: 2.5\n",
            "Q3: 40003.5\n",
            "IQR: 40001.0\n",
            "Lower Limit: -59999.0\n",
            "Upper Limit: 100005.0\n",
            "\n",
            "Number\tStatus\n",
            "1.0\tInlier\n",
            "4.0\tInlier\n",
            "6.0\tInlier\n",
            "7.0\tInlier\n",
            "80000.0\tInlier\n",
            "\n",
            "Outliers: None\n"
          ]
        }
      ]
    },
    {
      "cell_type": "code",
      "source": [
        "#Q26.  Function with default arguments:\n",
        "# Create a function to compute variance with an option to use sample or population formula"
      ],
      "metadata": {
        "id": "WbTZNvm2eJbt"
      },
      "execution_count": null,
      "outputs": []
    },
    {
      "cell_type": "code",
      "source": [
        "def your_function_26(data=None, sample=True):\n",
        "    if data is None:\n",
        "        data = list(map(float, input(\"Enter numbers: \").split()))\n",
        "\n",
        "    n = len(data)\n",
        "    if n == 0 or (sample and n < 2):\n",
        "        print(\"Not enough data to compute variance.\")\n",
        "        return\n",
        "\n",
        "    mean = sum(data) / n\n",
        "    squared_diffs = [(x - mean) ** 2 for x in data]\n",
        "\n",
        "    denom = n - 1 if sample else n\n",
        "    variance = sum(squared_diffs) / denom\n",
        "\n",
        "    print(\"Sample Variance:\" if sample else \"Population Variance:\", variance)\n",
        "\n",
        "\n",
        "your_function_26(data=None, sample=True)\n"
      ],
      "metadata": {
        "colab": {
          "base_uri": "https://localhost:8080/"
        },
        "id": "jJ0CxfuNehEe",
        "outputId": "f77872f5-38ff-4bb2-d5e7-047bb0001477"
      },
      "execution_count": null,
      "outputs": [
        {
          "output_type": "stream",
          "name": "stdout",
          "text": [
            "Enter numbers: 3 4 6 8\n",
            "Sample Variance: 4.916666666666667\n"
          ]
        }
      ]
    },
    {
      "cell_type": "code",
      "source": [
        "# Q27. Create a list of squares of even numbers between 1 and 20 using list comprehension."
      ],
      "metadata": {
        "id": "Q2P4kCy2e9eV"
      },
      "execution_count": null,
      "outputs": []
    },
    {
      "cell_type": "code",
      "source": [
        "def your_function_27():\n",
        "    squares = [x**2 for x in range(1, 21) if x % 2 == 0]\n",
        "    print(\"Squares of even numbers from 1 to 20:\", squares)\n",
        "your_function_27()"
      ],
      "metadata": {
        "colab": {
          "base_uri": "https://localhost:8080/"
        },
        "id": "DITlzuRSfKYe",
        "outputId": "8fe1f09f-fd82-4b2a-a1c0-f93b76061a55"
      },
      "execution_count": null,
      "outputs": [
        {
          "output_type": "stream",
          "name": "stdout",
          "text": [
            "Squares of even numbers from 1 to 20: [4, 16, 36, 64, 100, 144, 196, 256, 324, 400]\n"
          ]
        }
      ]
    },
    {
      "cell_type": "code",
      "source": [
        "# Q28. Write a function that returns the L1 and L2 norms of a vector given as list"
      ],
      "metadata": {
        "id": "0jbegdSzfbQN"
      },
      "execution_count": null,
      "outputs": []
    },
    {
      "cell_type": "code",
      "source": [
        "def your_function_28(vector):\n",
        "    l1 = sum(abs(x) for x in vector)\n",
        "    l2 = sum(x**2 for x in vector) ** 0.5\n",
        "    return l1, l2\n",
        "\n",
        "user_input = input(\"Enter vector: \")\n",
        "vector = list(map(float, user_input.split()))\n",
        "\n",
        "l1, l2 = your_function_28(vector)\n",
        "\n",
        "print(\"L1 Norm:\", l1)\n",
        "print(\"L2 Norm:\", l2)\n"
      ],
      "metadata": {
        "colab": {
          "base_uri": "https://localhost:8080/"
        },
        "id": "GwUA-QiVfobt",
        "outputId": "98f812d3-ffd6-490a-c47e-8672fd5e3a46"
      },
      "execution_count": null,
      "outputs": [
        {
          "output_type": "stream",
          "name": "stdout",
          "text": [
            "Enter vector: 6 8 3 9\n",
            "L1 Norm: 26.0\n",
            "L2 Norm: 13.784048752090222\n"
          ]
        }
      ]
    },
    {
      "cell_type": "code",
      "source": [
        "# Q29. Write a function that computes the 95% confidence interval for the mean of a list of numbers assuming normal distribution."
      ],
      "metadata": {
        "id": "Sl8UJ-4cgFeX"
      },
      "execution_count": null,
      "outputs": []
    },
    {
      "cell_type": "code",
      "source": [
        "def your_function_29(data):\n",
        "    n = len(data)\n",
        "    if n == 0:\n",
        "        return None\n",
        "\n",
        "    total = 0\n",
        "    for x in data:\n",
        "        total += x\n",
        "    mean = total / n\n",
        "\n",
        "    sum_sq_diff = 0\n",
        "    for x in data:\n",
        "        sum_sq_diff += (x - mean) * (x - mean)\n",
        "    std = (sum_sq_diff / n) ** 0.5\n",
        "\n",
        "    se = std / (n ** 0.5)\n",
        "    margin = 1.96 * se\n",
        "\n",
        "    low = mean - margin\n",
        "    high = mean + margin\n",
        "\n",
        "    return low, high\n",
        "data = [10, 12, 11, 13, 12]\n",
        "low, high = your_function_29(data)\n",
        "print(\"95% Confidence Interval:\", low, \"to\", high)\n"
      ],
      "metadata": {
        "colab": {
          "base_uri": "https://localhost:8080/"
        },
        "id": "_7M2giL0gJIl",
        "outputId": "0fb2a90a-9fbc-4f52-91a0-cb62b85f34b0"
      },
      "execution_count": null,
      "outputs": [
        {
          "output_type": "stream",
          "name": "stdout",
          "text": [
            "95% Confidence Interval: 10.706102466722276 to 12.493897533277723\n"
          ]
        }
      ]
    },
    {
      "cell_type": "code",
      "source": [
        "#Q30. Given a list of categorical values, create a frequency distribution dictionary."
      ],
      "metadata": {
        "id": "w28IRxkGgxmW"
      },
      "execution_count": null,
      "outputs": []
    },
    {
      "cell_type": "code",
      "source": [
        "def your_function_30(data):\n",
        "    freq = {}\n",
        "    for item in data:\n",
        "        if item in freq:\n",
        "            freq[item] += 1\n",
        "        else:\n",
        "            freq[item] = 1\n",
        "    return freq\n",
        "\n",
        "categories = ['apple', 'banana', 'apple', 'orange', 'banana', 'apple']\n",
        "\n",
        "print(\"Frequency Distribution:\", your_function_30(categories))\n"
      ],
      "metadata": {
        "colab": {
          "base_uri": "https://localhost:8080/"
        },
        "id": "lS9iXftjg3x-",
        "outputId": "5a21635e-f067-4bc4-fa11-75da51866360"
      },
      "execution_count": null,
      "outputs": [
        {
          "output_type": "stream",
          "name": "stdout",
          "text": [
            "Frequency Distribution: {'apple': 3, 'banana': 2, 'orange': 1}\n"
          ]
        }
      ]
    }
  ]
}