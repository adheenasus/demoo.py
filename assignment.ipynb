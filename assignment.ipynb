{
  "nbformat": 4,
  "nbformat_minor": 0,
  "metadata": {
    "colab": {
      "provenance": [],
      "authorship_tag": "ABX9TyOVnz1VA8AzOwZRrZMbnQve",
      "include_colab_link": true
    },
    "kernelspec": {
      "name": "python3",
      "display_name": "Python 3"
    },
    "language_info": {
      "name": "python"
    }
  },
  "cells": [
    {
      "cell_type": "markdown",
      "metadata": {
        "id": "view-in-github",
        "colab_type": "text"
      },
      "source": [
        "<a href=\"https://colab.research.google.com/github/adheenasus/demoo.py/blob/main/assignment.ipynb\" target=\"_parent\"><img src=\"https://colab.research.google.com/assets/colab-badge.svg\" alt=\"Open In Colab\"/></a>"
      ]
    },
    {
      "cell_type": "code",
      "execution_count": null,
      "metadata": {
        "id": "5pwM9W_tBYE4"
      },
      "outputs": [],
      "source": [
        "#Q1. Write a function that return the range (maximum and minimun) of a given list of numbers"
      ]
    },
    {
      "cell_type": "code",
      "source": [
        "a = [14,76,33,96,45,43,12,49]\n",
        "def range(a):\n",
        "  minimum = min(a)\n",
        "  maximum = max(a)\n",
        "\n",
        "  print(\"Minimum is :\",minimum)\n",
        "  print(\"Maximum is :\",maximum)\n",
        "\n",
        "  return\n",
        "\n",
        "range(a)"
      ],
      "metadata": {
        "colab": {
          "base_uri": "https://localhost:8080/"
        },
        "id": "LtbJON32BgSW",
        "outputId": "3b10cfc0-3088-483a-ad97-cb1890779be2"
      },
      "execution_count": 1,
      "outputs": [
        {
          "output_type": "stream",
          "name": "stdout",
          "text": [
            "Minimum is : 12\n",
            "Maximum is : 96\n"
          ]
        }
      ]
    },
    {
      "cell_type": "code",
      "source": [
        "#Write function that returns mean value of a list of numbers"
      ],
      "metadata": {
        "id": "dSZwth3XBur1"
      },
      "execution_count": 2,
      "outputs": []
    },
    {
      "cell_type": "code",
      "source": [
        "num = input(\"Enter the number : \").split(\" \")\n",
        "data = list(map(float , num))\n",
        "def mean (data):\n",
        "  print(\"Mean value is {}\".format(sum(data)/len(data)))"
      ],
      "metadata": {
        "colab": {
          "base_uri": "https://localhost:8080/"
        },
        "id": "bcv02EvcB1NG",
        "outputId": "75956032-bb49-4e0e-de0d-fa7be55f075e"
      },
      "execution_count": 4,
      "outputs": [
        {
          "name": "stdout",
          "output_type": "stream",
          "text": [
            "Enter the number : 1 2 3 4 5\n"
          ]
        }
      ]
    },
    {
      "cell_type": "code",
      "source": [
        "mean(data)"
      ],
      "metadata": {
        "colab": {
          "base_uri": "https://localhost:8080/"
        },
        "id": "4EN8R7dnCE19",
        "outputId": "352e6312-4979-4f23-ae56-96a2488d16cb"
      },
      "execution_count": 5,
      "outputs": [
        {
          "output_type": "stream",
          "name": "stdout",
          "text": [
            "Mean value is 3.0\n"
          ]
        }
      ]
    },
    {
      "cell_type": "code",
      "source": [
        "#Q3. Write a function that returns the median value of a list of numbers"
      ],
      "metadata": {
        "id": "X3IrPJqZCHXG"
      },
      "execution_count": 6,
      "outputs": []
    },
    {
      "cell_type": "code",
      "source": [
        "data = input(\"enter the numbers\").split(\" \")\n",
        "data = list(map(float,data))\n",
        "x = sorted(data)\n",
        "n = int(len(x))\n",
        "print(x)\n",
        "\n",
        "a = x[int(n/2)]\n",
        "b = x[int((n/2)-1)]\n",
        "c = x[int((n-1)/2)]\n",
        "d = a + b\n",
        "e = d/2\n",
        "\n",
        "def median(x):\n",
        "  if n%2==0:\n",
        "    print(e)\n",
        "  else:\n",
        "    print(c)"
      ],
      "metadata": {
        "id": "FCMIZV8aCRY2"
      },
      "execution_count": null,
      "outputs": []
    },
    {
      "cell_type": "code",
      "source": [
        "#Write a function to return the mod of a list of numbers, if no mod exists, it should return None. If more than one mod exist, return the mod values as list"
      ],
      "metadata": {
        "id": "B_L0NBPlCZ7t"
      },
      "execution_count": null,
      "outputs": []
    },
    {
      "cell_type": "code",
      "source": [
        "nums = [2,3,4,5,6,7,2,2]\n",
        "most = 0\n",
        "frequent = None\n",
        "for num in nums:\n",
        "  count = 0\n",
        "  for n in nums:\n",
        "    if n == num:\n",
        "      count = count + 1\n",
        "  if count > most:\n",
        "    most = count\n",
        "    frequent = num\n",
        "\n",
        "if most > 1:\n",
        "  print(\"Mode is: \",frequent)\n",
        "else:\n",
        "  print(\"No Mode Found\")"
      ],
      "metadata": {
        "colab": {
          "base_uri": "https://localhost:8080/"
        },
        "id": "HdgZYi5oCeTW",
        "outputId": "8e5f2e84-1123-48cd-a462-d31b4546928d"
      },
      "execution_count": 7,
      "outputs": [
        {
          "output_type": "stream",
          "name": "stdout",
          "text": [
            "Mode is:  2\n"
          ]
        }
      ]
    },
    {
      "cell_type": "code",
      "source": [
        "# Write function to compute a given percentile value (e.g. 90th percentile) of a list of numbers"
      ],
      "metadata": {
        "id": "NAfkIJg2CkGF"
      },
      "execution_count": null,
      "outputs": []
    },
    {
      "cell_type": "code",
      "source": [
        "b = input(\"Enter the Numbers: \").split(\" \")\n",
        "b = list(map(int,b))\n",
        "x = sorted(b)\n",
        "\n",
        "def percentage(b,p):\n",
        "  b = sorted(b)\n",
        "  n = len(b)\n",
        "  percent = (p/100)*(n+1)\n",
        "  percent_int = int(percent)\n",
        "  frac = percent - percent_int\n",
        "  if frac==0:\n",
        "    percentile = b[percent_int - 1]\n",
        "  else:\n",
        "    percentile = b[percent_int - 1] + (b[percent_int]-b[percent_int-1])*frac\n",
        "  return (percentile)\n",
        "percentage(b,90)"
      ],
      "metadata": {
        "id": "i9eICkM6Codm"
      },
      "execution_count": null,
      "outputs": []
    },
    {
      "cell_type": "code",
      "source": [
        "#Write a function that returns the lower bound of a list of numbers"
      ],
      "metadata": {
        "id": "DqZm6WYxCsF-"
      },
      "execution_count": null,
      "outputs": []
    },
    {
      "cell_type": "code",
      "source": [
        "data = [6,1,3,2,7,5,8,4]\n",
        "data.sort()\n",
        "q1 = ((data[1]+data[2])/2)\n",
        "q2 = ((data[3]+data[4])/2)\n",
        "q3 = ((data[5]+data[6])/2)\n",
        "iqr = q3 - q1\n",
        "\n",
        "lower_bound = q1 - (1.5*iqr)\n",
        "print(\"Lower Bound :\",lower_bound)\n"
      ],
      "metadata": {
        "id": "o2w9oyYtCwBO"
      },
      "execution_count": null,
      "outputs": []
    },
    {
      "cell_type": "code",
      "source": [
        "# Write function to return any outliers from a given list of numbers, if no outliers present it should return None"
      ],
      "metadata": {
        "id": "ZrfzW9QxDEOd"
      },
      "execution_count": null,
      "outputs": []
    },
    {
      "cell_type": "code",
      "source": [
        "nums = [1, 2, 3, 100, 5, 6]\n",
        "def outliers(numbers):\n",
        "    avg = sum(numbers) / len(numbers)\n",
        "    outliers = []\n",
        "\n",
        "    for n in numbers:\n",
        "        if abs(n - avg) > 2 * avg:\n",
        "            outliers.append(n)\n",
        "\n",
        "    return outliers if outliers else None\n",
        "\n",
        "print(outliers(nums))\n"
      ],
      "metadata": {
        "id": "68xL9-pEDH70"
      },
      "execution_count": null,
      "outputs": []
    },
    {
      "cell_type": "code",
      "source": [
        "# Write a function to return standard deviation of a list of numbers"
      ],
      "metadata": {
        "id": "TMAWamWmDMgl"
      },
      "execution_count": null,
      "outputs": []
    },
    {
      "cell_type": "code",
      "source": [
        "v = input(\"Enter the numbers: \").split(\" \")\n",
        "v = list(map(int, v))\n",
        "a = sum(v) / len(v)\n",
        "\n",
        "val = []\n",
        "for i in v:\n",
        "    val.append((i - a) * (i - a))\n",
        "\n",
        "print(val)\n",
        "print(len(val))\n",
        "j = sum(val)\n",
        "print(j)\n",
        "var = j / len(val)\n",
        "print(var ** (1 / 2))"
      ],
      "metadata": {
        "id": "8RAKtE10DQPU"
      },
      "execution_count": null,
      "outputs": []
    },
    {
      "cell_type": "code",
      "source": [
        "# Write function to compute and return Z-score values of a list of numbers"
      ],
      "metadata": {
        "id": "-vhkVnsgDf-f"
      },
      "execution_count": null,
      "outputs": []
    },
    {
      "cell_type": "code",
      "source": [
        "v = input(\"Enter the numbers: \").split(\" \")\n",
        "v = list(map(int, v))\n",
        "a = sum(v) / len(v)\n",
        "\n",
        "val = []\n",
        "z = []\n",
        "for i in v:\n",
        "    val.append((i - a) * (i - a))\n",
        "\n",
        "j = sum(val)\n",
        "print(j)\n",
        "var = j / len(val)\n",
        "std = var ** (1/2)\n",
        "print(val)\n",
        "for i in v:\n",
        "  z.append((i-a)/std)\n",
        "\n",
        "print(z)"
      ],
      "metadata": {
        "id": "QkAUAmLRDjst"
      },
      "execution_count": null,
      "outputs": []
    },
    {
      "cell_type": "code",
      "source": [
        "# Write a function to compute and return the Pearson correlation coefficient value of two list of numbers"
      ],
      "metadata": {
        "id": "P1Z6fvNvDraF"
      },
      "execution_count": null,
      "outputs": []
    },
    {
      "cell_type": "code",
      "source": [
        "def pearson(x, y):\n",
        "    n = len(x)\n",
        "    sum_x = sum(x)\n",
        "    sum_y = sum(y)\n",
        "    sum_xy = sum(x[i] * y[i] for i in range(n))\n",
        "    sum_x2 = sum(x[i] ** 2 for i in range(n))\n",
        "    sum_y2 = sum(y[i] ** 2 for i in range(n))\n",
        "\n",
        "    numerator = n * sum_xy - sum_x * sum_y\n",
        "    denominator = ((n * sum_x2 - sum_x ** 2) * (n * sum_y2 - sum_y ** 2)) ** 0.5\n",
        "\n",
        "    if denominator == 0:\n",
        "        return None\n",
        "\n",
        "    return numerator / denominator"
      ],
      "metadata": {
        "id": "vV5ziN_KDtg9"
      },
      "execution_count": null,
      "outputs": []
    },
    {
      "cell_type": "code",
      "source": [
        "a = [1, 2, 3, 4, 5]\n",
        "b = [5, 6, 7, 8, 7]\n",
        "\n",
        "print(\"Pearson Correlation:\", pearson(a, b))"
      ],
      "metadata": {
        "id": "R_PXT0apDzy_"
      },
      "execution_count": null,
      "outputs": []
    }
  ]
}